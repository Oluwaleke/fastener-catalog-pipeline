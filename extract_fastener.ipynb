{
 "cells": [
  {
   "cell_type": "code",
   "execution_count": 1,
   "id": "f52fa398-25df-4e52-97c0-554bc846ba19",
   "metadata": {},
   "outputs": [],
   "source": [
    "import pandas as pd\n",
    "import pdfplumber\n",
    "import re\n",
    "import os"
   ]
  },
  {
   "cell_type": "code",
   "execution_count": 4,
   "id": "86002124-382e-4b40-8a5c-00c2da65df1e",
   "metadata": {},
   "outputs": [
    {
     "name": "stdout",
     "output_type": "stream",
     "text": [
      "Parsed rows: 20\n",
      "    Item#   Brand  Size   Material                     Description   ImageFile\n",
      "0  FN0001  Brand2   2mm      Brass       Hex head bolt, 2mm, Brass  FN0001.jpg\n",
      "1  FN0002  Brand3   4mm  Stainless   Hex head bolt, 4mm, Stainless  FN0002.jpg\n",
      "2  FN0003  Brand4   6mm      Steel       Hex head bolt, 6mm, Steel  FN0003.jpg\n",
      "3  FN0004  Brand5   8mm      Brass       Hex head bolt, 8mm, Brass  FN0004.jpg\n",
      "4  FN0005  Brand1  10mm  Stainless  Hex head bolt, 10mm, Stainless  FN0005.jpg\n",
      "✅ Saved C:\\Users\\techpc\\Downloads\\data_entry\\Data\\Output\\fastener_data_cleaned.xlsx\n"
     ]
    }
   ],
   "source": [
    "# 1) Paths\n",
    "PDF_PATH   = r\"C:\\Users\\techpc\\Downloads\\data_entry\\Data\\sources\\fastener_catalog.pdf\"\n",
    "OUTPUT_XLS = r\"C:\\Users\\techpc\\Downloads\\data_entry\\Data\\Output\\fastener_data_cleaned.xlsx\"\n",
    "os.makedirs(os.path.dirname(OUTPUT_XLS), exist_ok=True)\n",
    "\n",
    "# 2) Extract table via pdfplumber's table extractor\n",
    "with pdfplumber.open(PDF_PATH) as pdf:\n",
    "    page  = pdf.pages[0]\n",
    "    table = page.extract_table()\n",
    "\n",
    "# 3) Build DataFrame\n",
    "# table[0] is the header row, table[1:] the data rows\n",
    "df = pd.DataFrame(table[1:], columns=table[0])\n",
    "print(\"Parsed rows:\", len(df))\n",
    "print(df.head())\n",
    "\n",
    "# 4) Clean up whitespace & non-ASCII\n",
    "import re\n",
    "def clean_txt(s):\n",
    "    s = re.sub(r'[^\\x00-\\x7F]', '', str(s))\n",
    "    s = re.sub(r'[\\r\\n\\t]', ' ', s)\n",
    "    s = re.sub(r'\\s{2,}', ' ', s)\n",
    "    return s.strip()\n",
    "for col in df.columns:\n",
    "    df[col] = df[col].apply(clean_txt)\n",
    "\n",
    "# 5) Flag duplicates\n",
    "df['Duplicate'] = df.duplicated(subset=['Item#'], keep=False)\n",
    "\n",
    "# 6) Save to Excel\n",
    "df.to_excel(OUTPUT_XLS, index=False)\n",
    "print(\"✅ Saved\", OUTPUT_XLS)\n"
   ]
  },
  {
   "cell_type": "code",
   "execution_count": null,
   "id": "dbe85a3d-f3cb-4347-b791-737a18d9a4f4",
   "metadata": {},
   "outputs": [],
   "source": []
  }
 ],
 "metadata": {
  "kernelspec": {
   "display_name": "Python 3 (ipykernel)",
   "language": "python",
   "name": "python3"
  },
  "language_info": {
   "codemirror_mode": {
    "name": "ipython",
    "version": 3
   },
   "file_extension": ".py",
   "mimetype": "text/x-python",
   "name": "python",
   "nbconvert_exporter": "python",
   "pygments_lexer": "ipython3",
   "version": "3.9.15"
  }
 },
 "nbformat": 4,
 "nbformat_minor": 5
}
